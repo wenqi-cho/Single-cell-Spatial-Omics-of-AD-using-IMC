{
 "cells": [
  {
   "cell_type": "code",
   "execution_count": 1,
   "metadata": {},
   "outputs": [],
   "source": [
    "import os\n",
    "import re\n",
    "from os import PathLike\n",
    "from pathlib import Path\n",
    "from typing import List, Optional, Sequence, Union\n",
    "\n",
    "import numpy as np\n",
    "import pandas as pd\n",
    "import tifffile\n",
    "\n"
   ]
  },
  {
   "cell_type": "code",
   "execution_count": 2,
   "metadata": {},
   "outputs": [],
   "source": [
    "import logging\n",
    "\n",
    "logger = logging.getLogger(__name__.rpartition(\".\")[0])\n",
    "\n",
    "\n",
    "class SteinbockException(Exception):\n",
    "    pass\n",
    "\n"
   ]
  },
  {
   "cell_type": "code",
   "execution_count": 3,
   "metadata": {},
   "outputs": [],
   "source": [
    "\n",
    "\n",
    "def _fix_mask_shape(mask_file: Union[str, PathLike], mask: np.ndarray) -> np.ndarray:\n",
    "    if mask.ndim == 3:\n",
    "        if mask.shape[0] == 1:\n",
    "            mask = mask[0, :, :]\n",
    "        elif mask.shape[-1] == 1:\n",
    "            mask = mask[:, :, 0]\n",
    "        else:\n",
    "            raise SteinbockIOException(\n",
    "                f\"{mask_file}: unsupported three-dimensional shape {mask.shape}\"\n",
    "            )\n",
    "    elif mask.ndim == 4:\n",
    "        if mask.shape[0] == 1 and mask.shape[1] == 1:\n",
    "            mask = mask[0, 0, :, :]\n",
    "        elif mask.shape[0] == 1 and mask.shape[-1] == 1:\n",
    "            mask = mask[0, :, :, 0]\n",
    "        elif mask.shape[-1] == 1 and mask.shape[-2] == 1:\n",
    "            mask = mask[:, :, 0, 0]\n",
    "        else:\n",
    "            raise SteinbockIOException(\n",
    "                f\"{mask_file}: unsupported four-dimensional shape {mask.shape}\"\n",
    "            )\n",
    "    elif mask.ndim == 5:\n",
    "        size_t, size_z, size_c, size_y, size_x = mask.shape\n",
    "        if size_t != 1 or size_z != 1 or size_c != 1:\n",
    "            raise SteinbockIOException(\n",
    "                f\"{mask_file}: unsupported TZCYX shape {mask.shape}\"\n",
    "            )\n",
    "        mask = mask[0, 0, 0, :, :]\n",
    "    elif mask.ndim == 6:\n",
    "        size_t, size_z, size_c, size_y, size_x, size_s = mask.shape\n",
    "        if size_t != 1 or size_z != 1 or size_c != 1 or size_s != 1:\n",
    "            raise SteinbockIOException(\n",
    "                f\"{mask_file}: unsupported TZCYXS shape {mask.shape}\"\n",
    "            )\n",
    "        mask = mask[0, 0, 0, :, :, 0]\n",
    "    elif mask.ndim != 2:\n",
    "        raise SteinbockIOException(\n",
    "            f\"{mask_file}: unsupported number of dimensions ({mask.ndim})\"\n",
    "        )\n",
    "    return mask"
   ]
  },
  {
   "cell_type": "code",
   "execution_count": 4,
   "metadata": {},
   "outputs": [],
   "source": [
    "def read_mask(\n",
    "    mask_file: Union[str, PathLike],\n",
    "    native_dtype: bool = False,\n",
    ") -> np.ndarray:\n",
    "    mask = tifffile.imread(mask_file, squeeze=False)\n",
    "    mask = _fix_mask_shape(mask_file, mask)\n",
    "    if not native_dtype:\n",
    "        mask = _to_dtype(mask, mask_dtype)\n",
    "    return mask\n",
    "\n"
   ]
  },
  {
   "cell_type": "code",
   "execution_count": 22,
   "metadata": {},
   "outputs": [
    {
     "data": {
      "text/plain": [
       "'/rds/general/user/wc1322/home/summer-project/combined_data/mtg_dna/deepcell/masks_plaques'"
      ]
     },
     "execution_count": 22,
     "metadata": {},
     "output_type": "execute_result"
    }
   ],
   "source": [
    "# folder_path = \"/rds/general/user/wc1322/home/summer-project/combined_data/mtg_dna/deepcell/masks_plaques/\" #'/Users/eleonoreschneegans/Desktop/test_imc/masks_plaques'\n",
    "\n",
    "# os.chdir(folder_path)\n",
    "# os.getcwd()"
   ]
  },
  {
   "cell_type": "code",
   "execution_count": 5,
   "metadata": {},
   "outputs": [
    {
     "data": {
      "text/plain": [
       "'/rds/general/user/wc1322/home/summer-project/combined_data/mtg_dna/deepcell/new_plaques_global'"
      ]
     },
     "execution_count": 5,
     "metadata": {},
     "output_type": "execute_result"
    }
   ],
   "source": [
    "# folder_path = \"/rds/general/user/wc1322/home/summer-project/combined_data/mtg_dna/deepcell/new_masks/\"\n",
    "# folder_path = \"/rds/general/user/wc1322/home/summer-project/combined_data/mtg_dna/deepcell/masks_plaques_ori/masks_plaques/\"\n",
    "folder_path = \"/rds/general/user/wc1322/home/summer-project/combined_data/mtg_dna/deepcell/new_plaques_global/\"\n",
    "os.chdir(folder_path)\n",
    "os.getcwd()"
   ]
  },
  {
   "cell_type": "code",
   "execution_count": 6,
   "metadata": {},
   "outputs": [
    {
     "data": {
      "text/plain": [
       "['DPM16.44_002.tiff',\n",
       " 'A19.12_002.tiff',\n",
       " 'NP14.128_002.tiff',\n",
       " '19930222_003.tiff',\n",
       " '19920194_004.tiff',\n",
       " 'A319.11_002.tiff',\n",
       " 'A115.17_003.tiff',\n",
       " '19891053_004.tiff',\n",
       " 'PDC26_003.tiff',\n",
       " '19930148_004.tiff',\n",
       " 'A127.11_001.tiff',\n",
       " 'A53.11_003.tiff',\n",
       " 'A163.17_002.tiff',\n",
       " 'P23.07_002.tiff',\n",
       " '19920077_001.tiff',\n",
       " '19910006_004.tiff',\n",
       " 'NP13.012_003.tiff',\n",
       " '19920035_004.tiff',\n",
       " '19930154_004.tiff',\n",
       " '19920077_003.tiff',\n",
       " 'A13.03_002.tiff',\n",
       " 'A169.10_002.tiff',\n",
       " 'A282.14_004.tiff',\n",
       " 'A127.11_003.tiff',\n",
       " 'A220.11_003.tiff',\n",
       " '20185935_004.tiff',\n",
       " 'A282.14_001.tiff',\n",
       " '20110137_001.tiff',\n",
       " 'A170.13_002.tiff',\n",
       " 'A282.14_002.tiff',\n",
       " '19910006_003.tiff',\n",
       " '20110137_004.tiff',\n",
       " '19891053_003.tiff',\n",
       " 'A163.17_004.tiff',\n",
       " 'A51.14_002.tiff',\n",
       " 'A138.12_001.tiff',\n",
       " 'NP14.128_001.tiff',\n",
       " '20130325_004.tiff',\n",
       " 'A297.16_001.tiff',\n",
       " '962.2_001.tiff',\n",
       " 'A13.03_004.tiff',\n",
       " '19960064_001.tiff',\n",
       " '19930154_002.tiff',\n",
       " 'A96.14_002.tiff',\n",
       " '20185935_003.tiff',\n",
       " 'PDC16_001.tiff',\n",
       " 'A170.13_004.tiff',\n",
       " '19891053_001.tiff',\n",
       " 'A13.03_001.tiff',\n",
       " 'PDC16_004.tiff',\n",
       " '19920035_001.tiff',\n",
       " '19930148_001.tiff',\n",
       " '19910334_004.tiff',\n",
       " '19960064_004.tiff',\n",
       " 'DPM16.44_003.tiff',\n",
       " 'A170.13_003.tiff',\n",
       " 'P23.07_003.tiff',\n",
       " '19920077_004.tiff',\n",
       " '19920077_002.tiff',\n",
       " '19910006_001.tiff',\n",
       " 'NP13.012_004.tiff',\n",
       " 'A402.14_001.tiff',\n",
       " '19891053_002.tiff',\n",
       " 'A115.17_002.tiff',\n",
       " 'NP12.162_004.tiff',\n",
       " 'A53.11_002.tiff',\n",
       " 'A53.11_004.tiff',\n",
       " 'A170.13_001.tiff',\n",
       " '19930222_004.tiff',\n",
       " 'A282.14_003.tiff',\n",
       " 'PDC26_004.tiff',\n",
       " 'PDC16_003.tiff',\n",
       " '19910006_002.tiff',\n",
       " 'A210.05_002.tiff',\n",
       " 'A51.14_001.tiff',\n",
       " '20130325_002.tiff',\n",
       " 'A138.12_003.tiff',\n",
       " '19920035_002.tiff',\n",
       " 'A297.16_002.tiff',\n",
       " 'A297.16_003.tiff',\n",
       " '19930148_002.tiff',\n",
       " 'A138.12_002.tiff',\n",
       " 'NP13.012_002.tiff',\n",
       " 'A277.12_002.tiff',\n",
       " 'A19.12_004.tiff',\n",
       " '20129990_002.tiff',\n",
       " 'A96.14_001.tiff',\n",
       " 'NP12.162_002.tiff',\n",
       " 'A277.12_001.tiff',\n",
       " '19920194_002.tiff',\n",
       " '962.2_004.tiff',\n",
       " '20129990_003.tiff',\n",
       " 'A297.16_004.tiff',\n",
       " '20130325_003.tiff',\n",
       " 'A169.10_004.tiff',\n",
       " 'C19.93_003.tiff',\n",
       " 'C19.93_002.tiff',\n",
       " '20185935_002.tiff',\n",
       " 'A166.04_002.tiff',\n",
       " 'A13.03_003.tiff',\n",
       " 'NP13.012_001.tiff',\n",
       " 'A220.11_001.tiff',\n",
       " 'C19.93_001.tiff',\n",
       " 'A354.16_003.tiff',\n",
       " '19920200_004.tiff',\n",
       " 'NP12.162_001.tiff',\n",
       " '19910334_002.tiff',\n",
       " 'A402.14_004.tiff',\n",
       " 'A163.17_003.tiff',\n",
       " '19960064_003.tiff',\n",
       " 'A354.16_001.tiff',\n",
       " '19920035_003.tiff',\n",
       " 'A319.11_001.tiff',\n",
       " 'A277.12_003.tiff',\n",
       " 'A115.17_004.tiff',\n",
       " '19920200_003.tiff',\n",
       " 'A19.12_001.tiff',\n",
       " 'A166.04_001.tiff',\n",
       " 'DPM16.44_001.tiff',\n",
       " 'A277.12_004.tiff',\n",
       " 'A127.11_002.tiff',\n",
       " 'P23.07_001.tiff',\n",
       " 'DPM16.44_004.tiff',\n",
       " '19960064_002.tiff',\n",
       " '20129990_001.tiff',\n",
       " 'NP14.128_004.tiff',\n",
       " 'NP14.128_003.tiff',\n",
       " 'A210.05_001.tiff',\n",
       " 'A169.10_001.tiff',\n",
       " 'A51.14_004.tiff',\n",
       " 'PDC26_002.tiff',\n",
       " '19910334_001.tiff',\n",
       " '19930148_003.tiff',\n",
       " '20130325_001.tiff',\n",
       " 'A138.12_004.tiff',\n",
       " 'A127.11_004.tiff',\n",
       " '962.2_002.tiff',\n",
       " '19930222_002.tiff',\n",
       " '19930154_003.tiff',\n",
       " '962.2_003.tiff',\n",
       " '19920200_002.tiff',\n",
       " 'A319.11_003.tiff',\n",
       " '20185935_001.tiff',\n",
       " 'A402.14_003.tiff',\n",
       " 'A166.04_004.tiff',\n",
       " 'A402.14_002.tiff',\n",
       " '20110137_002.tiff',\n",
       " '20129990_004.tiff',\n",
       " 'C19.93_004.tiff',\n",
       " 'P23.07_004.tiff',\n",
       " 'PDC16_002.tiff',\n",
       " 'A53.11_001.tiff',\n",
       " '19920200_001.tiff',\n",
       " 'A163.17_001.tiff',\n",
       " 'A220.11_004.tiff',\n",
       " 'A210.05_003.tiff',\n",
       " 'A96.14_003.tiff',\n",
       " 'A115.17_001.tiff',\n",
       " '19930154_001.tiff',\n",
       " 'A169.10_003.tiff',\n",
       " '19920194_003.tiff',\n",
       " '19920194_001.tiff',\n",
       " 'A210.05_004.tiff',\n",
       " 'A51.14_003.tiff',\n",
       " 'A319.11_004.tiff',\n",
       " 'A96.14_004.tiff',\n",
       " '19910334_003.tiff',\n",
       " 'A166.04_003.tiff',\n",
       " 'A220.11_002.tiff',\n",
       " 'A354.16_002.tiff',\n",
       " 'A19.12_003.tiff',\n",
       " 'PDC26_001.tiff',\n",
       " '20110137_003.tiff',\n",
       " 'NP12.162_003.tiff',\n",
       " 'A354.16_004.tiff',\n",
       " '19930222_001.tiff']"
      ]
     },
     "execution_count": 6,
     "metadata": {},
     "output_type": "execute_result"
    }
   ],
   "source": [
    "import glob\n",
    "# Create a list of .tiff file paths\n",
    "# mask_files = glob.glob(folder_path + \"/*.tiff\")\n",
    "# Alternatively, create a tuple of .tiff file paths\n",
    "# mask_files = tuple(glob.glob(folder_path + \"/*.tiff\"))\n",
    "# Get a list of .tiff file paths\n",
    "mask_files = glob.glob(\"*.tiff\")\n",
    "mask_files"
   ]
  },
  {
   "cell_type": "code",
   "execution_count": 11,
   "metadata": {},
   "outputs": [],
   "source": [
    "# mask_file='/rds/general/user/wc1322/home/summer-project/combined_data/10_mtg/masks/DPM16.44_002.tiff'"
   ]
  },
  {
   "cell_type": "code",
   "execution_count": 12,
   "metadata": {},
   "outputs": [],
   "source": [
    "# mask_2 = read_mask(mask_file, native_dtype=True)\n",
    "\n"
   ]
  },
  {
   "cell_type": "code",
   "execution_count": 13,
   "metadata": {},
   "outputs": [
    {
     "data": {
      "text/plain": [
       "array([[  0,   0,   0, ...,   0,   0,   0],\n",
       "       [  0,   0,   2, ...,   0,   0,   0],\n",
       "       [  0,   0,   2, ...,   0,   0,   0],\n",
       "       ...,\n",
       "       [  0,   0,   0, ..., 597,   0,   0],\n",
       "       [  0,   0,   0, ..., 597,   0,   0],\n",
       "       [  0,   0,   0, ...,   0,   0,   0]], dtype=uint16)"
      ]
     },
     "execution_count": 13,
     "metadata": {},
     "output_type": "execute_result"
    }
   ],
   "source": [
    "# mask_2"
   ]
  },
  {
   "cell_type": "code",
   "execution_count": 7,
   "metadata": {},
   "outputs": [],
   "source": [
    "import numpy as np\n",
    "from skimage.segmentation import expand_labels\n",
    "\n",
    "import io\n",
    "\n",
    "\n",
    "def expand_mask(mask: np.ndarray, distance: int) -> np.ndarray:\n",
    "    expanded_mask = expand_labels(mask, distance=distance)\n",
    "    return expanded_mask\n",
    "\n"
   ]
  },
  {
   "cell_type": "code",
   "execution_count": 15,
   "metadata": {},
   "outputs": [],
   "source": [
    "# expanded_mask = expand_mask(mask_2, distance=10)"
   ]
  },
  {
   "cell_type": "code",
   "execution_count": 16,
   "metadata": {},
   "outputs": [
    {
     "data": {
      "text/plain": [
       "array([[  2,   2,   2, ...,   0,   0,   0],\n",
       "       [  2,   2,   2, ...,   0,   0,   0],\n",
       "       [  2,   2,   2, ...,   0,   0,   0],\n",
       "       ...,\n",
       "       [  0,   0,   0, ..., 597, 597, 597],\n",
       "       [  0,   0,   0, ..., 597, 597, 597],\n",
       "       [  0,   0,   0, ..., 597, 597, 597]], dtype=uint16)"
      ]
     },
     "execution_count": 16,
     "metadata": {},
     "output_type": "execute_result"
    }
   ],
   "source": [
    "# expanded_mask"
   ]
  },
  {
   "cell_type": "code",
   "execution_count": 9,
   "metadata": {},
   "outputs": [],
   "source": [
    "def write_image(\n",
    "    img: np.ndarray,\n",
    "    img_file: Union[str, PathLike],\n",
    "    ignore_dtype: bool = False,\n",
    ") -> None:\n",
    "    if not ignore_dtype:\n",
    "        img = _to_dtype(img, img_dtype)\n",
    "    tifffile.imwrite(\n",
    "        img_file,\n",
    "        data=img,\n",
    "        imagej=img.dtype in (np.uint8, np.uint16, np.float32),\n",
    "    )\n",
    "\n",
    "def _to_dtype(src: np.ndarray, dst_dtype: np.dtype) -> np.ndarray:\n",
    "    if src.dtype == dst_dtype:\n",
    "        return src\n",
    "    src_is_int = np.issubdtype(src.dtype, np.integer)\n",
    "    dst_is_int = np.issubdtype(dst_dtype, np.integer)\n",
    "    if not src_is_int and dst_is_int:\n",
    "        src = np.around(src)\n",
    "    if src_is_int:\n",
    "        src_info = np.iinfo(src.dtype)\n",
    "    else:\n",
    "        src_info = np.finfo(src.dtype)\n",
    "    if dst_is_int:\n",
    "        dst_info = np.iinfo(dst_dtype)\n",
    "    else:\n",
    "        dst_info = np.finfo(dst_dtype)\n",
    "    if src_info.min < dst_info.min or src_info.max > dst_info.max:\n",
    "        src = np.clip(src, dst_info.min, dst_info.max)\n",
    "    return src.astype(dst_dtype)\n",
    "\n",
    "\n"
   ]
  },
  {
   "cell_type": "code",
   "execution_count": 18,
   "metadata": {},
   "outputs": [
    {
     "data": {
      "text/plain": [
       "array([[  2,   2,   2, ...,   0,   0,   0],\n",
       "       [  2,   2,   2, ...,   0,   0,   0],\n",
       "       [  2,   2,   2, ...,   0,   0,   0],\n",
       "       ...,\n",
       "       [  0,   0,   0, ..., 597, 597, 597],\n",
       "       [  0,   0,   0, ..., 597, 597, 597],\n",
       "       [  0,   0,   0, ..., 597, 597, 597]], dtype=uint16)"
      ]
     },
     "execution_count": 18,
     "metadata": {},
     "output_type": "execute_result"
    }
   ],
   "source": [
    "# expanded_mask"
   ]
  },
  {
   "cell_type": "code",
   "execution_count": 19,
   "metadata": {},
   "outputs": [],
   "source": [
    "# write_image(expanded_mask,img_file='/rds/general/user/wc1322/home/summer-project/combined_data/10_mtg/masks/DPM16.44_002_NEW.tiff',ignore_dtype=True)"
   ]
  },
  {
   "cell_type": "code",
   "execution_count": 10,
   "metadata": {},
   "outputs": [],
   "source": [
    "## Expand the masks_plaques by 50\n",
    "# new_folder_path = \"/rds/general/user/wc1322/home/summer-project/combined_data/mtg_dna/deepcell/masks_plaques_5/\"\n",
    "# new_folder_path = \"/rds/general/user/wc1322/home/summer-project/combined_data/mtg_dna/deepcell/new_masks_50/\"\n",
    "new_folder_path = \"/rds/general/user/wc1322/home/summer-project/combined_data/mtg_dna/deepcell/new_plaques_global_50/\"\n",
    "# Create the new folder if it doesn't exist\n",
    "os.makedirs(new_folder_path, exist_ok=True)\n",
    "\n",
    "# Iterate over the mask files\n",
    "for mask_file in mask_files:\n",
    "    # Read the mask file\n",
    "    mask = read_mask(mask_file, native_dtype=True)\n",
    "    \n",
    "    # Expand the mask\n",
    "    expanded_mask = expand_mask(mask, distance=50)\n",
    "    \n",
    "    # Create the new mask file path in the new folder\n",
    "    new_mask_file = os.path.join(new_folder_path, os.path.basename(mask_file))\n",
    "    \n",
    "    # Write the expanded mask to the new file\n",
    "    write_image(expanded_mask, img_file=new_mask_file, ignore_dtype=True)"
   ]
  },
  {
   "cell_type": "code",
   "execution_count": 11,
   "metadata": {},
   "outputs": [],
   "source": [
    "## Expand the masks_plaques by 3\n",
    "# new_folder_path = \"/rds/general/user/wc1322/home/summer-project/combined_data/mtg_dna/deepcell/masks_plaques_30/\"\n",
    "new_folder_path = \"/rds/general/user/wc1322/home/summer-project/combined_data/mtg_dna/deepcell/new_plaques_global_30/\"\n",
    "# Create the new folder if it doesn't exist\n",
    "os.makedirs(new_folder_path, exist_ok=True)\n",
    "\n",
    "# Iterate over the mask files\n",
    "for mask_file in mask_files:\n",
    "    # Read the mask file\n",
    "    mask = read_mask(mask_file, native_dtype=True)\n",
    "    \n",
    "    # Expand the mask\n",
    "    expanded_mask = expand_mask(mask, distance=30)\n",
    "    \n",
    "    # Create the new mask file path in the new folder\n",
    "    new_mask_file = os.path.join(new_folder_path, os.path.basename(mask_file))\n",
    "    \n",
    "    # Write the expanded mask to the new file\n",
    "    write_image(expanded_mask, img_file=new_mask_file, ignore_dtype=True)"
   ]
  },
  {
   "cell_type": "code",
   "execution_count": 12,
   "metadata": {},
   "outputs": [],
   "source": [
    "## Expand the masks_plaques by 10\n",
    "# new_folder_path = \"/rds/general/user/wc1322/home/summer-project/combined_data/mtg_dna/deepcell/masks_plaques_10/\"\n",
    "new_folder_path = \"/rds/general/user/wc1322/home/summer-project/combined_data/mtg_dna/deepcell/new_plaques_global_10/\"\n",
    "\n",
    "# Create the new folder if it doesn't exist\n",
    "os.makedirs(new_folder_path, exist_ok=True)\n",
    "\n",
    "# Iterate over the mask files\n",
    "for mask_file in mask_files:\n",
    "    # Read the mask file\n",
    "    mask = read_mask(mask_file, native_dtype=True)\n",
    "    \n",
    "    # Expand the mask\n",
    "    expanded_mask = expand_mask(mask, distance=10)\n",
    "    \n",
    "    # Create the new mask file path in the new folder\n",
    "    new_mask_file = os.path.join(new_folder_path, os.path.basename(mask_file))\n",
    "    \n",
    "    # Write the expanded mask to the new file\n",
    "    write_image(expanded_mask, img_file=new_mask_file, ignore_dtype=True)"
   ]
  },
  {
   "cell_type": "code",
   "execution_count": 13,
   "metadata": {},
   "outputs": [],
   "source": [
    "## Expand the masks_plaques by 10\n",
    "# new_folder_path = \"/rds/general/user/wc1322/home/summer-project/combined_data/mtg_dna/deepcell/masks_plaques_20/\"\n",
    "new_folder_path = \"/rds/general/user/wc1322/home/summer-project/combined_data/mtg_dna/deepcell/new_plaques_global_20/\"\n",
    "\n",
    "# Create the new folder if it doesn't exist\n",
    "os.makedirs(new_folder_path, exist_ok=True)\n",
    "\n",
    "# Iterate over the mask files\n",
    "for mask_file in mask_files:\n",
    "    # Read the mask file\n",
    "    mask = read_mask(mask_file, native_dtype=True)\n",
    "    \n",
    "    # Expand the mask\n",
    "    expanded_mask = expand_mask(mask, distance=20)\n",
    "    \n",
    "    # Create the new mask file path in the new folder\n",
    "    new_mask_file = os.path.join(new_folder_path, os.path.basename(mask_file))\n",
    "    \n",
    "    # Write the expanded mask to the new file\n",
    "    write_image(expanded_mask, img_file=new_mask_file, ignore_dtype=True)"
   ]
  },
  {
   "cell_type": "code",
   "execution_count": 14,
   "metadata": {},
   "outputs": [],
   "source": [
    "## Expand the masks_plaques by 10\n",
    "# new_folder_path = \"/rds/general/user/wc1322/home/summer-project/combined_data/mtg_dna/deepcell/masks_plaques_40/\"\n",
    "new_folder_path = \"/rds/general/user/wc1322/home/summer-project/combined_data/mtg_dna/deepcell/new_plaques_global_40/\"\n",
    "# Create the new folder if it doesn't exist\n",
    "os.makedirs(new_folder_path, exist_ok=True)\n",
    "\n",
    "# Iterate over the mask files\n",
    "for mask_file in mask_files:\n",
    "    # Read the mask file\n",
    "    mask = read_mask(mask_file, native_dtype=True)\n",
    "    \n",
    "    # Expand the mask\n",
    "    expanded_mask = expand_mask(mask, distance=40)\n",
    "    \n",
    "    # Create the new mask file path in the new folder\n",
    "    new_mask_file = os.path.join(new_folder_path, os.path.basename(mask_file))\n",
    "    \n",
    "    # Write the expanded mask to the new file\n",
    "    write_image(expanded_mask, img_file=new_mask_file, ignore_dtype=True)"
   ]
  },
  {
   "cell_type": "code",
   "execution_count": 15,
   "metadata": {},
   "outputs": [],
   "source": [
    "## Expand the masks_plaques by 100\n",
    "# new_folder_path = \"/rds/general/user/wc1322/home/summer-project/combined_data/mtg_dna/deepcell/masks_plaques_40/\"\n",
    "# new_folder_path = \"/rds/general/user/wc1322/home/summer-project/combined_data/mtg_dna/deepcell/new_masks_100/\"\n",
    "# new_folder_path = \"/rds/general/user/wc1322/home/summer-project/combined_data/mtg_dna/deepcell/masks_plaques_ori/masks_plaques_100/\"\n",
    "new_folder_path = \"/rds/general/user/wc1322/home/summer-project/combined_data/mtg_dna/deepcell/new_plaques_global_100/\"\n",
    "\n",
    "# Create the new folder if it doesn't exist\n",
    "os.makedirs(new_folder_path, exist_ok=True)\n",
    "\n",
    "# Iterate over the mask files\n",
    "for mask_file in mask_files:\n",
    "    # Read the mask file\n",
    "    mask = read_mask(mask_file, native_dtype=True)\n",
    "    \n",
    "    # Expand the mask\n",
    "    expanded_mask = expand_mask(mask, distance=100)\n",
    "    \n",
    "    # Create the new mask file path in the new folder\n",
    "    new_mask_file = os.path.join(new_folder_path, os.path.basename(mask_file))\n",
    "    \n",
    "    # Write the expanded mask to the new file\n",
    "    write_image(expanded_mask, img_file=new_mask_file, ignore_dtype=True)"
   ]
  }
 ],
 "metadata": {
  "kernelspec": {
   "display_name": "Python [conda env:test1]",
   "language": "python",
   "name": "conda-env-test1-py"
  },
  "language_info": {
   "codemirror_mode": {
    "name": "ipython",
    "version": 3
   },
   "file_extension": ".py",
   "mimetype": "text/x-python",
   "name": "python",
   "nbconvert_exporter": "python",
   "pygments_lexer": "ipython3",
   "version": "3.9.16"
  }
 },
 "nbformat": 4,
 "nbformat_minor": 5
}
