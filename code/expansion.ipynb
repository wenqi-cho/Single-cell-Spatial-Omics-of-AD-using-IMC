{
 "cells": [
  {
   "cell_type": "code",
   "execution_count": 12,
   "metadata": {},
   "outputs": [],
   "source": [
    "import steinbock\n",
    "import numpy as np"
   ]
  },
  {
   "cell_type": "code",
   "execution_count": 19,
   "metadata": {},
   "outputs": [],
   "source": [
    "from os import PathLike\n",
    "from pathlib import Path\n",
    "from typing import Generator, Sequence, Tuple, Union"
   ]
  },
  {
   "cell_type": "code",
   "execution_count": 21,
   "metadata": {},
   "outputs": [],
   "source": [
    "from skimage.segmentation import expand_labels"
   ]
  },
  {
   "cell_type": "code",
   "execution_count": 49,
   "metadata": {},
   "outputs": [],
   "source": [
    "import io\n",
    "import tifffile"
   ]
  },
  {
   "cell_type": "code",
   "execution_count": 13,
   "metadata": {},
   "outputs": [],
   "source": [
    "# def expand_mask(mask: np.ndarray, distance: int) -> np.ndarray:\n",
    "    # expanded_mask = expand_labels(mask, distance=distance)\n",
    "    # return expanded_mask"
   ]
  },
  {
   "cell_type": "code",
   "execution_count": 26,
   "metadata": {},
   "outputs": [],
   "source": [
    "# Define the distance value\n",
    "distance = 10"
   ]
  },
  {
   "cell_type": "code",
   "execution_count": null,
   "metadata": {},
   "outputs": [],
   "source": [
    "# mask = np.load(mask_files)  # Load the mask array from the file\n",
    "# expanded_mask = expand_mask(mask, distance)\n",
    "# print(expanded_mask)"
   ]
  },
  {
   "cell_type": "code",
   "execution_count": 67,
   "metadata": {},
   "outputs": [],
   "source": [
    "# Define a function to expand masks from disk\n",
    "def try_expand_masks_from_disk(\n",
    "    mask_files: Sequence[Union[str, PathLike]], distance: int\n",
    ") -> Generator[Tuple[Path, np.ndarray], None, None]:\n",
    "    for mask_file in mask_files:\n",
    "        # Read the mask file\n",
    "        mask = tifffile.imread(mask_file)\n",
    "        expanded_mask = expand_labels(mask, distance=distance)\n",
    "        yield Path(mask_file), expanded_mask"
   ]
  },
  {
   "cell_type": "code",
   "execution_count": 69,
   "metadata": {},
   "outputs": [],
   "source": [
    "def try_expand_masks_from_disk(\n",
    "    mask_files: Sequence[Union[str, PathLike]], distance: int, mmap: bool = False\n",
    ") -> Generator[Tuple[Path, np.ndarray], None, None]:\n",
    "    for mask_file in mask_files:\n",
    "        if mmap:\n",
    "            mask = io.mmap_mask(mask_file)\n",
    "        else:\n",
    "            mask = io.read_mask(mask_file, native_dtype=True)\n",
    "        expanded_mask = expand_mask(mask, distance=distance)\n",
    "        yield Path(mask_file), expanded_mask"
   ]
  },
  {
   "cell_type": "code",
   "execution_count": 62,
   "metadata": {},
   "outputs": [],
   "source": [
    "# Specify the folder path where your .tiff files are located\n",
    "folder_path = \"~/combined_data/masks\""
   ]
  },
  {
   "cell_type": "code",
   "execution_count": 63,
   "metadata": {},
   "outputs": [],
   "source": [
    "os.chdir(folder_path)"
   ]
  },
  {
   "cell_type": "code",
   "execution_count": 52,
   "metadata": {},
   "outputs": [],
   "source": [
    "import glob\n",
    "\n",
    "# Create a list of .tiff file paths\n",
    "mask_files = glob.glob(folder_path + \"/*.tiff\")\n",
    "\n",
    "# Alternatively, create a tuple of .tiff file paths\n",
    "mask_files = tuple(glob.glob(folder_path + \"/*.tiff\"))"
   ]
  },
  {
   "cell_type": "code",
   "execution_count": 66,
   "metadata": {},
   "outputs": [],
   "source": [
    "# Call the function to expand masks\n",
    "generator_obj = try_expand_masks_from_disk(mask_files, distance)\n",
    "\n",
    "# Process each file_path and expanded_mask\n",
    "for file_path, expanded_mask in generator_obj:\n",
    "    print(f\"File: {file_path}, Expanded Mask: {expanded_mask}\")"
   ]
  },
  {
   "cell_type": "code",
   "execution_count": 58,
   "metadata": {},
   "outputs": [
    {
     "data": {
      "text/plain": [
       "10"
      ]
     },
     "execution_count": 58,
     "metadata": {},
     "output_type": "execute_result"
    }
   ],
   "source": [
    "mask_files\n",
    "distance"
   ]
  },
  {
   "cell_type": "code",
   "execution_count": 70,
   "metadata": {},
   "outputs": [
    {
     "data": {
      "text/plain": [
       "<generator object try_expand_masks_from_disk at 0x148e5d511740>"
      ]
     },
     "execution_count": 70,
     "metadata": {},
     "output_type": "execute_result"
    }
   ],
   "source": [
    "try_expand_masks_from_disk(mask_files, distance)\n"
   ]
  },
  {
   "cell_type": "code",
   "execution_count": null,
   "metadata": {},
   "outputs": [],
   "source": []
  }
 ],
 "metadata": {
  "kernelspec": {
   "display_name": "Python [conda env:test1]",
   "language": "python",
   "name": "conda-env-test1-py"
  },
  "language_info": {
   "codemirror_mode": {
    "name": "ipython",
    "version": 3
   },
   "file_extension": ".py",
   "mimetype": "text/x-python",
   "name": "python",
   "nbconvert_exporter": "python",
   "pygments_lexer": "ipython3",
   "version": "3.9.16"
  }
 },
 "nbformat": 4,
 "nbformat_minor": 2
}
